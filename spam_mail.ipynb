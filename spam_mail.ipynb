{
  "nbformat": 4,
  "nbformat_minor": 0,
  "metadata": {
    "colab": {
      "provenance": [],
      "authorship_tag": "ABX9TyMT4+uEPLEmy9Wm1cyCAbnW",
      "include_colab_link": true
    },
    "kernelspec": {
      "name": "python3",
      "display_name": "Python 3"
    },
    "language_info": {
      "name": "python"
    }
  },
  "cells": [
    {
      "cell_type": "markdown",
      "metadata": {
        "id": "view-in-github",
        "colab_type": "text"
      },
      "source": [
        "<a href=\"https://colab.research.google.com/github/AdityaKumar9471/Spam-Mail-Detection/blob/main/spam_mail.ipynb\" target=\"_parent\"><img src=\"https://colab.research.google.com/assets/colab-badge.svg\" alt=\"Open In Colab\"/></a>"
      ]
    },
    {
      "cell_type": "code",
      "execution_count": 3,
      "metadata": {
        "id": "hbqXh3j_dEuc"
      },
      "outputs": [],
      "source": [
        "import numpy as num\n",
        "import pandas as pd\n",
        "from sklearn.model_selection import train_test_split\n",
        "from sklearn.feature_extraction.text import TfidfVectorizer  #convert text to vector numbers\n",
        "from sklearn.linear_model import LogisticRegression\n",
        "from sklearn.metrics import accuracy_score\n"
      ]
    },
    {
      "cell_type": "code",
      "source": [
        "data=pd.read_csv('/content/mail_data.csv')"
      ],
      "metadata": {
        "id": "yEVBpHOMfBoV"
      },
      "execution_count": 4,
      "outputs": []
    },
    {
      "cell_type": "code",
      "source": [
        "data.isnull().sum()"
      ],
      "metadata": {
        "colab": {
          "base_uri": "https://localhost:8080/"
        },
        "id": "fXLE3MmJhixb",
        "outputId": "a6962787-7523-4da4-a949-bef5ec2f2a7f"
      },
      "execution_count": 5,
      "outputs": [
        {
          "output_type": "execute_result",
          "data": {
            "text/plain": [
              "Category    0\n",
              "Message     0\n",
              "dtype: int64"
            ]
          },
          "metadata": {},
          "execution_count": 5
        }
      ]
    },
    {
      "cell_type": "code",
      "source": [
        "data1=data.where((pd.notnull(data)),'')    #replace null data with a null string"
      ],
      "metadata": {
        "id": "wHSrNPnAhtNb"
      },
      "execution_count": 6,
      "outputs": []
    },
    {
      "cell_type": "markdown",
      "source": [
        "Label encoding\n"
      ],
      "metadata": {
        "id": "85f5LQsm7BFZ"
      }
    },
    {
      "cell_type": "code",
      "source": [
        "data1.loc[data1['Category']=='spam','Category',]=1\n",
        "data1.loc[data1['Category']=='ham','Category',]=0"
      ],
      "metadata": {
        "id": "tPtUBfDiiRqI"
      },
      "execution_count": 7,
      "outputs": []
    },
    {
      "cell_type": "code",
      "source": [
        "y=data1['Category']\n",
        "x=data1['Message']"
      ],
      "metadata": {
        "id": "6iH6uOZd9H8L"
      },
      "execution_count": 8,
      "outputs": []
    },
    {
      "cell_type": "code",
      "source": [
        "x_train,x_test,y_train,y_test=train_test_split(x,y,test_size=0.2,stratify=y,random_state=1)"
      ],
      "metadata": {
        "id": "cEJixdO29S9J"
      },
      "execution_count": 9,
      "outputs": []
    },
    {
      "cell_type": "code",
      "source": [
        "numeric=TfidfVectorizer(min_df= 1,stop_words='english', lowercase=1)  #words should be repeated at least once, stop words means the,is,did and so on should be english, lowecase conversion\n",
        "x_num=numeric.fit_transform(x_train)\n",
        "x_numt=numeric.transform(x_test)\n",
        "y_traini= y_train.astype('int')\n",
        "y_testi=y_test.astype('int')\n",
        "\n"
      ],
      "metadata": {
        "colab": {
          "base_uri": "https://localhost:8080/"
        },
        "id": "PfRdtq0m-VZQ",
        "outputId": "38f9d8f3-a565-4e52-9a15-806fa95b06e0"
      },
      "execution_count": 10,
      "outputs": [
        {
          "output_type": "stream",
          "name": "stderr",
          "text": [
            "/usr/local/lib/python3.10/dist-packages/sklearn/utils/_param_validation.py:558: FutureWarning: Passing an int for a boolean parameter is deprecated in version 1.2 and won't be supported anymore in version 1.4.\n",
            "  warnings.warn(\n"
          ]
        }
      ]
    },
    {
      "cell_type": "code",
      "source": [
        "print(x_num)\n"
      ],
      "metadata": {
        "id": "z_oy7Xd6D7DV",
        "colab": {
          "base_uri": "https://localhost:8080/"
        },
        "outputId": "c105cdf5-496f-4922-b86b-2281e735ce93"
      },
      "execution_count": 11,
      "outputs": [
        {
          "output_type": "stream",
          "name": "stdout",
          "text": [
            "  (0, 6606)\t0.523940970934277\n",
            "  (0, 3660)\t0.8517545767276199\n",
            "  (1, 3335)\t0.36745342202374887\n",
            "  (1, 2862)\t0.5549639383159053\n",
            "  (1, 2552)\t0.6506290834310083\n",
            "  (1, 3061)\t0.3656156528455293\n",
            "  (2, 5747)\t0.21872033754942083\n",
            "  (2, 2497)\t0.23328693496318245\n",
            "  (2, 692)\t0.3046023026526015\n",
            "  (2, 6196)\t0.185976410159545\n",
            "  (2, 5727)\t0.16913858495564582\n",
            "  (2, 4963)\t0.23084322885690048\n",
            "  (2, 7218)\t0.34041696150490075\n",
            "  (2, 6567)\t0.34041696150490075\n",
            "  (2, 2317)\t0.24495400108429272\n",
            "  (2, 6109)\t0.2974759789533104\n",
            "  (2, 5152)\t0.34041696150490075\n",
            "  (2, 7093)\t0.24495400108429272\n",
            "  (2, 257)\t0.23204598734733617\n",
            "  (2, 7156)\t0.20813276557414967\n",
            "  (2, 5431)\t0.18750941318212888\n",
            "  (3, 3775)\t0.38657360638939164\n",
            "  (3, 3886)\t0.6786691889988239\n",
            "  (3, 1136)\t0.6244749624658931\n",
            "  (4, 14)\t0.2516022658800207\n",
            "  :\t:\n",
            "  (4452, 1706)\t0.34394710757954106\n",
            "  (4452, 7299)\t0.263549386954443\n",
            "  (4452, 1567)\t0.2834200550365188\n",
            "  (4452, 5775)\t0.3697604329463426\n",
            "  (4452, 4531)\t0.3087919715689254\n",
            "  (4452, 7309)\t0.23455363629143428\n",
            "  (4453, 5151)\t0.4201356736530104\n",
            "  (4453, 861)\t0.4201356736530104\n",
            "  (4453, 1281)\t0.4201356736530104\n",
            "  (4453, 965)\t0.38669836192885154\n",
            "  (4453, 5524)\t0.4005761001694536\n",
            "  (4453, 3559)\t0.4005761001694536\n",
            "  (4454, 7299)\t0.8182968895218113\n",
            "  (4454, 4670)\t0.5747957903455179\n",
            "  (4455, 2518)\t0.4445353899279073\n",
            "  (4455, 2246)\t0.4445353899279073\n",
            "  (4455, 5880)\t0.4630224096460095\n",
            "  (4455, 3958)\t0.40272734446612596\n",
            "  (4455, 7063)\t0.3234310399884699\n",
            "  (4455, 4952)\t0.3515535105216968\n",
            "  (4456, 1163)\t0.5234524586284862\n",
            "  (4456, 1867)\t0.46838096293009507\n",
            "  (4456, 6323)\t0.46838096293009507\n",
            "  (4456, 1712)\t0.42672098466699326\n",
            "  (4456, 4923)\t0.3242611168949782\n"
          ]
        }
      ]
    },
    {
      "cell_type": "code",
      "source": [
        "from sklearn.ensemble import RandomForestClassifier\n",
        "\n",
        "model = RandomForestClassifier()\n"
      ],
      "metadata": {
        "id": "bY0dnw8bHzoe"
      },
      "execution_count": 13,
      "outputs": []
    },
    {
      "cell_type": "code",
      "source": [
        "model.fit(x_num,y_traini)"
      ],
      "metadata": {
        "colab": {
          "base_uri": "https://localhost:8080/",
          "height": 74
        },
        "id": "GVmNPIgNH3M9",
        "outputId": "33d85752-ee95-48b8-ecde-82e24955e691"
      },
      "execution_count": 14,
      "outputs": [
        {
          "output_type": "execute_result",
          "data": {
            "text/plain": [
              "RandomForestClassifier()"
            ],
            "text/html": [
              "<style>#sk-container-id-1 {color: black;background-color: white;}#sk-container-id-1 pre{padding: 0;}#sk-container-id-1 div.sk-toggleable {background-color: white;}#sk-container-id-1 label.sk-toggleable__label {cursor: pointer;display: block;width: 100%;margin-bottom: 0;padding: 0.3em;box-sizing: border-box;text-align: center;}#sk-container-id-1 label.sk-toggleable__label-arrow:before {content: \"▸\";float: left;margin-right: 0.25em;color: #696969;}#sk-container-id-1 label.sk-toggleable__label-arrow:hover:before {color: black;}#sk-container-id-1 div.sk-estimator:hover label.sk-toggleable__label-arrow:before {color: black;}#sk-container-id-1 div.sk-toggleable__content {max-height: 0;max-width: 0;overflow: hidden;text-align: left;background-color: #f0f8ff;}#sk-container-id-1 div.sk-toggleable__content pre {margin: 0.2em;color: black;border-radius: 0.25em;background-color: #f0f8ff;}#sk-container-id-1 input.sk-toggleable__control:checked~div.sk-toggleable__content {max-height: 200px;max-width: 100%;overflow: auto;}#sk-container-id-1 input.sk-toggleable__control:checked~label.sk-toggleable__label-arrow:before {content: \"▾\";}#sk-container-id-1 div.sk-estimator input.sk-toggleable__control:checked~label.sk-toggleable__label {background-color: #d4ebff;}#sk-container-id-1 div.sk-label input.sk-toggleable__control:checked~label.sk-toggleable__label {background-color: #d4ebff;}#sk-container-id-1 input.sk-hidden--visually {border: 0;clip: rect(1px 1px 1px 1px);clip: rect(1px, 1px, 1px, 1px);height: 1px;margin: -1px;overflow: hidden;padding: 0;position: absolute;width: 1px;}#sk-container-id-1 div.sk-estimator {font-family: monospace;background-color: #f0f8ff;border: 1px dotted black;border-radius: 0.25em;box-sizing: border-box;margin-bottom: 0.5em;}#sk-container-id-1 div.sk-estimator:hover {background-color: #d4ebff;}#sk-container-id-1 div.sk-parallel-item::after {content: \"\";width: 100%;border-bottom: 1px solid gray;flex-grow: 1;}#sk-container-id-1 div.sk-label:hover label.sk-toggleable__label {background-color: #d4ebff;}#sk-container-id-1 div.sk-serial::before {content: \"\";position: absolute;border-left: 1px solid gray;box-sizing: border-box;top: 0;bottom: 0;left: 50%;z-index: 0;}#sk-container-id-1 div.sk-serial {display: flex;flex-direction: column;align-items: center;background-color: white;padding-right: 0.2em;padding-left: 0.2em;position: relative;}#sk-container-id-1 div.sk-item {position: relative;z-index: 1;}#sk-container-id-1 div.sk-parallel {display: flex;align-items: stretch;justify-content: center;background-color: white;position: relative;}#sk-container-id-1 div.sk-item::before, #sk-container-id-1 div.sk-parallel-item::before {content: \"\";position: absolute;border-left: 1px solid gray;box-sizing: border-box;top: 0;bottom: 0;left: 50%;z-index: -1;}#sk-container-id-1 div.sk-parallel-item {display: flex;flex-direction: column;z-index: 1;position: relative;background-color: white;}#sk-container-id-1 div.sk-parallel-item:first-child::after {align-self: flex-end;width: 50%;}#sk-container-id-1 div.sk-parallel-item:last-child::after {align-self: flex-start;width: 50%;}#sk-container-id-1 div.sk-parallel-item:only-child::after {width: 0;}#sk-container-id-1 div.sk-dashed-wrapped {border: 1px dashed gray;margin: 0 0.4em 0.5em 0.4em;box-sizing: border-box;padding-bottom: 0.4em;background-color: white;}#sk-container-id-1 div.sk-label label {font-family: monospace;font-weight: bold;display: inline-block;line-height: 1.2em;}#sk-container-id-1 div.sk-label-container {text-align: center;}#sk-container-id-1 div.sk-container {/* jupyter's `normalize.less` sets `[hidden] { display: none; }` but bootstrap.min.css set `[hidden] { display: none !important; }` so we also need the `!important` here to be able to override the default hidden behavior on the sphinx rendered scikit-learn.org. See: https://github.com/scikit-learn/scikit-learn/issues/21755 */display: inline-block !important;position: relative;}#sk-container-id-1 div.sk-text-repr-fallback {display: none;}</style><div id=\"sk-container-id-1\" class=\"sk-top-container\"><div class=\"sk-text-repr-fallback\"><pre>RandomForestClassifier()</pre><b>In a Jupyter environment, please rerun this cell to show the HTML representation or trust the notebook. <br />On GitHub, the HTML representation is unable to render, please try loading this page with nbviewer.org.</b></div><div class=\"sk-container\" hidden><div class=\"sk-item\"><div class=\"sk-estimator sk-toggleable\"><input class=\"sk-toggleable__control sk-hidden--visually\" id=\"sk-estimator-id-1\" type=\"checkbox\" checked><label for=\"sk-estimator-id-1\" class=\"sk-toggleable__label sk-toggleable__label-arrow\">RandomForestClassifier</label><div class=\"sk-toggleable__content\"><pre>RandomForestClassifier()</pre></div></div></div></div></div>"
            ]
          },
          "metadata": {},
          "execution_count": 14
        }
      ]
    },
    {
      "cell_type": "code",
      "source": [
        "x_pred=model.predict(x_num)\n",
        "print(x_pred)"
      ],
      "metadata": {
        "colab": {
          "base_uri": "https://localhost:8080/"
        },
        "id": "q2mkONDcIKeF",
        "outputId": "f117f5d2-f08d-45f3-a295-939b6e3f87f4"
      },
      "execution_count": 15,
      "outputs": [
        {
          "output_type": "stream",
          "name": "stdout",
          "text": [
            "[0 0 1 ... 0 0 0]\n"
          ]
        }
      ]
    },
    {
      "cell_type": "code",
      "source": [
        "a=accuracy_score(y_traini,x_pred)\n",
        "print(a)"
      ],
      "metadata": {
        "colab": {
          "base_uri": "https://localhost:8080/"
        },
        "id": "TBdYsEl4IYEe",
        "outputId": "f7f13e82-4a78-438b-8297-d9bbeb5c44fc"
      },
      "execution_count": 16,
      "outputs": [
        {
          "output_type": "stream",
          "name": "stdout",
          "text": [
            "1.0\n"
          ]
        }
      ]
    },
    {
      "cell_type": "code",
      "source": [
        "x1_pred=model.predict(x_numt)\n",
        "print(accuracy_score(x1_pred,y_testi))"
      ],
      "metadata": {
        "colab": {
          "base_uri": "https://localhost:8080/"
        },
        "id": "bTh7Eh2mIiMd",
        "outputId": "5e2112fc-dd79-42eb-d796-b3b5034e1db8"
      },
      "execution_count": 17,
      "outputs": [
        {
          "output_type": "stream",
          "name": "stdout",
          "text": [
            "0.9775784753363229\n"
          ]
        }
      ]
    }
  ]
}